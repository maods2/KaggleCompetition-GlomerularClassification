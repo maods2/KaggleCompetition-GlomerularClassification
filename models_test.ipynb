{
 "cells": [
  {
   "cell_type": "code",
   "execution_count": 15,
   "metadata": {},
   "outputs": [],
   "source": [
    "from models.AlexNet import AlexNet\n",
    "from models.base_model import BaseModel, OptionsObject\n",
    "import tensorflow as tf\n",
    "import numpy as np\n",
    "from sklearn.model_selection import train_test_split\n"
   ]
  },
  {
   "cell_type": "code",
   "execution_count": 17,
   "metadata": {},
   "outputs": [
    {
     "name": "stdout",
     "output_type": "stream",
     "text": [
      "(811, 200, 200, 3)\n",
      "(811, 2)\n"
     ]
    }
   ],
   "source": [
    "class AlexNet_(BaseModel):\n",
    "    def __init__(self, opt):\n",
    "        model = AlexNet(input_shape=(200, 200, 3), num_classes=2)\n",
    "        super().__init__(model, opt)\n",
    "\n",
    "\n",
    "x = np.load('data/dataset_image_200x200/x.npy')\n",
    "y = tf.keras.utils.to_categorical(np.load('data/dataset_image_200x200/y.npy'))\n",
    "\n",
    "x_train, x_test, y_train, y_test  = train_test_split(x, y, test_size=0.2, random_state=42, stratify=y)\n",
    "print(x.shape)\n",
    "print(y.shape)"
   ]
  },
  {
   "cell_type": "code",
   "execution_count": 12,
   "metadata": {},
   "outputs": [
    {
     "data": {
      "text/plain": [
       "array([[0., 1.],\n",
       "       [0., 1.],\n",
       "       [0., 1.],\n",
       "       ...,\n",
       "       [1., 0.],\n",
       "       [1., 0.],\n",
       "       [1., 0.]], dtype=float32)"
      ]
     },
     "execution_count": 12,
     "metadata": {},
     "output_type": "execute_result"
    }
   ],
   "source": [
    "y"
   ]
  },
  {
   "cell_type": "code",
   "execution_count": 19,
   "metadata": {},
   "outputs": [],
   "source": [
    "obj = OptionsObject('AlexNet',['Hipercelularidade','Normal' ])\n",
    "obj.epochs = 20\n",
    "model = AlexNet_(obj)"
   ]
  },
  {
   "cell_type": "code",
   "execution_count": 21,
   "metadata": {},
   "outputs": [
    {
     "name": "stdout",
     "output_type": "stream",
     "text": [
      "Epoch 1/20\n",
      "17/17 [==============================] - 1s 31ms/step - loss: 0.4383 - accuracy: 0.7959 - val_loss: 0.5525 - val_accuracy: 0.6000\n",
      "Epoch 2/20\n",
      "17/17 [==============================] - 0s 28ms/step - loss: 0.5850 - accuracy: 0.7667 - val_loss: 0.6445 - val_accuracy: 0.5846\n",
      "Epoch 3/20\n",
      "17/17 [==============================] - 0s 28ms/step - loss: 0.5167 - accuracy: 0.7976 - val_loss: 0.4482 - val_accuracy: 0.8615\n",
      "Epoch 4/20\n",
      "17/17 [==============================] - 0s 28ms/step - loss: 0.4234 - accuracy: 0.8130 - val_loss: 0.4276 - val_accuracy: 0.8462\n",
      "Epoch 5/20\n",
      "17/17 [==============================] - 0s 28ms/step - loss: 0.4905 - accuracy: 0.7736 - val_loss: 0.4966 - val_accuracy: 0.8923\n",
      "Epoch 6/20\n",
      "17/17 [==============================] - 0s 28ms/step - loss: 0.4420 - accuracy: 0.8302 - val_loss: 0.4702 - val_accuracy: 0.8462\n",
      "Epoch 7/20\n",
      "17/17 [==============================] - 0s 28ms/step - loss: 0.3791 - accuracy: 0.8559 - val_loss: 0.3011 - val_accuracy: 0.9077\n",
      "Epoch 8/20\n",
      "17/17 [==============================] - 0s 27ms/step - loss: 0.4094 - accuracy: 0.8285 - val_loss: 0.5961 - val_accuracy: 0.7231\n",
      "Epoch 9/20\n",
      "17/17 [==============================] - 0s 28ms/step - loss: 0.4298 - accuracy: 0.8199 - val_loss: 0.3484 - val_accuracy: 0.8769\n",
      "Epoch 10/20\n",
      "17/17 [==============================] - 0s 28ms/step - loss: 0.3722 - accuracy: 0.8439 - val_loss: 0.3433 - val_accuracy: 0.9231\n",
      "Epoch 11/20\n",
      "17/17 [==============================] - 0s 27ms/step - loss: 0.4123 - accuracy: 0.8182 - val_loss: 0.3131 - val_accuracy: 0.9077\n",
      "Epoch 12/20\n",
      "17/17 [==============================] - 0s 28ms/step - loss: 0.3157 - accuracy: 0.8799 - val_loss: 0.4190 - val_accuracy: 0.8615\n",
      "Epoch 13/20\n",
      "17/17 [==============================] - 0s 28ms/step - loss: 0.4601 - accuracy: 0.8525 - val_loss: 0.4684 - val_accuracy: 0.7846\n",
      "Epoch 14/20\n",
      "17/17 [==============================] - 0s 28ms/step - loss: 0.5696 - accuracy: 0.6964 - val_loss: 0.3938 - val_accuracy: 0.8462\n",
      "Epoch 15/20\n",
      "17/17 [==============================] - 0s 28ms/step - loss: 0.5021 - accuracy: 0.7684 - val_loss: 0.3781 - val_accuracy: 0.8769\n",
      "Epoch 16/20\n",
      "17/17 [==============================] - 0s 28ms/step - loss: 0.4059 - accuracy: 0.8130 - val_loss: 0.5943 - val_accuracy: 0.7077\n",
      "Epoch 17/20\n",
      "17/17 [==============================] - 0s 28ms/step - loss: 0.3787 - accuracy: 0.8302 - val_loss: 0.3507 - val_accuracy: 0.9077\n",
      "Epoch 18/20\n",
      "17/17 [==============================] - 0s 28ms/step - loss: 0.3853 - accuracy: 0.8714 - val_loss: 0.5172 - val_accuracy: 0.6923\n",
      "Epoch 19/20\n",
      "17/17 [==============================] - 0s 28ms/step - loss: 0.3377 - accuracy: 0.8559 - val_loss: 0.5423 - val_accuracy: 0.7692\n",
      "Epoch 20/20\n",
      "17/17 [==============================] - 0s 27ms/step - loss: 0.2897 - accuracy: 0.8902 - val_loss: 0.4757 - val_accuracy: 0.8462\n",
      "6/6 [==============================] - 0s 27ms/step - loss: 0.4498 - accuracy: 0.7914\n",
      "6/6 [==============================] - 0s 9ms/step\n"
     ]
    }
   ],
   "source": [
    "\n",
    "model.train(x_train,y_train)\n",
    "model.test(x_test, y_test)"
   ]
  }
 ],
 "metadata": {
  "kernelspec": {
   "display_name": "Python 3.10.4 64-bit ('3.10.4')",
   "language": "python",
   "name": "python3"
  },
  "language_info": {
   "codemirror_mode": {
    "name": "ipython",
    "version": 3
   },
   "file_extension": ".py",
   "mimetype": "text/x-python",
   "name": "python",
   "nbconvert_exporter": "python",
   "pygments_lexer": "ipython3",
   "version": "3.10.4"
  },
  "orig_nbformat": 4,
  "vscode": {
   "interpreter": {
    "hash": "56c229f379aab8a4ce5099aa8ab2b29787fc7baf268439adb20093fb198b626f"
   }
  }
 },
 "nbformat": 4,
 "nbformat_minor": 2
}
